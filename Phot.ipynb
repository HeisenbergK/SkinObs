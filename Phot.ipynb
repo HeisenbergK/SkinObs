{
 "cells": [
  {
   "cell_type": "code",
   "execution_count": 1,
   "metadata": {},
   "outputs": [],
   "source": [
    "import numpy as np\n",
    "from astropy.table import Table\n",
    "from synphot import SourceSpectrum, SpectralElement, units\n",
    "from synphot.models import Empirical1D\n",
    "import astropy.units as u\n",
    "from scipy.special import erf\n",
    "import matplotlib.pyplot as plt\n",
    "from scipy.interpolate import interp1d\n",
    "from scipy.optimize import root"
   ]
  },
  {
   "cell_type": "code",
   "execution_count": 2,
   "metadata": {
    "code_folding": [
     0
    ]
   },
   "outputs": [],
   "source": [
    "def filters(fil):\n",
    "    if fil == 'R':\n",
    "        return 'Filters/Johnson-R.ecsv'\n",
    "    elif fil == 'sdss-r':\n",
    "        return 'Filters/sdss-r.ecsv'\n",
    "    elif fil == 'cs_sdss-r':\n",
    "        return 'Filters/cs_sdss.ecsv'\n",
    "    elif fil=='Ha' or fil=='6563':\n",
    "        return 'Filters/6563.ecsv'\n",
    "    else:\n",
    "        return str(fil)"
   ]
  },
  {
   "cell_type": "code",
   "execution_count": 3,
   "metadata": {
    "code_folding": [
     0
    ]
   },
   "outputs": [],
   "source": [
    "def observatorysky(observatory):\n",
    "    if observatory=='skinakas':\n",
    "        sky = Table.read(\"Skies\\skinakassky.ecsv\", format='ascii.ecsv')\n",
    "        skyss = SourceSpectrum(Empirical1D, points=sky['Wavelength (A)']*u.Angstrom, lookup_table=(sky['Sky (erg/s/cm^2/A/arcsec^2)']*units.FLAM))\n",
    "        return skyss"
   ]
  },
  {
   "cell_type": "code",
   "execution_count": 4,
   "metadata": {
    "code_folding": [
     0
    ]
   },
   "outputs": [],
   "source": [
    "def trans(fil):\n",
    "    filfil = filters(fil)\n",
    "    filtertrans = Table.read(filfil, format='ascii.ecsv')\n",
    "    filterws = np.linspace(start=min(filtertrans['Wavelength (A)']), stop=max(filtertrans['Wavelength (A)']), num=1000)\n",
    "    filterse = SpectralElement(Empirical1D, points=filtertrans['Wavelength (A)']*u.Angstrom, lookup_table=(filtertrans['Transmittance']))\n",
    "    wavs = filtertrans['Wavelength (A)']\n",
    "    return filterse, wavs"
   ]
  },
  {
   "cell_type": "code",
   "execution_count": 5,
   "metadata": {
    "code_folding": [
     0
    ]
   },
   "outputs": [],
   "source": [
    "def flat(wavfl, fil):\n",
    "    filterse, wavs = trans(fil)\n",
    "    spec = np.add(np.multiply(0.0, np.array(wavs)), wavfl)\n",
    "    wavs = wavs*u.Angstrom\n",
    "    spec = spec*units.FLAM\n",
    "    spectr = SourceSpectrum(Empirical1D, points=wavs, lookup_table=spec)\n",
    "    through = filterse*spectr\n",
    "    tot = through.integrate()\n",
    "    return tot.decompose()"
   ]
  },
  {
   "cell_type": "code",
   "execution_count": 6,
   "metadata": {
    "code_folding": [
     0
    ]
   },
   "outputs": [],
   "source": [
    "def flatext(wavfl, fil, extarea):\n",
    "    filterse, wavs = trans(fil)\n",
    "    spec = np.add(np.multiply(0.0, np.array(wavs)), wavfl)\n",
    "    wavs = wavs*u.Angstrom\n",
    "    spec = spec*units.FLAM\n",
    "    spectr = SourceSpectrum(Empirical1D, points=wavs, lookup_table=spec)\n",
    "    through = filterse*spectr\n",
    "    through = through\n",
    "    tot = through.integrate()\n",
    "    tot = tot/extarea\n",
    "    return tot.decompose()"
   ]
  },
  {
   "cell_type": "code",
   "execution_count": 7,
   "metadata": {
    "code_folding": [
     0
    ]
   },
   "outputs": [],
   "source": [
    "def sky(observatory, fil):\n",
    "    filterse, wavs = trans(fil)\n",
    "    skyss = observatorysky(observatory)\n",
    "    through = filterse*skyss\n",
    "    tot = through.integrate()\n",
    "    return tot.decompose()"
   ]
  },
  {
   "cell_type": "code",
   "execution_count": 8,
   "metadata": {
    "code_folding": [
     0
    ]
   },
   "outputs": [],
   "source": [
    "def pointsn(sky, source, fwhm, siglim=5.0, qe=1.0):\n",
    "    sig = fwhm/(2.0*np.sqrt(2.0*np.log(2.0)))\n",
    "    fs = siglim*sig\n",
    "    fsa = np.pi*((fs/2.0)**2.0)\n",
    "    skyinstar = float(qe)*fsa*sky\n",
    "    nsource = float(qe)*erf(siglim/np.sqrt(2.0))*source\n",
    "    sn = nsource/np.sqrt(nsource+skyinstar)\n",
    "    return sn.decompose()"
   ]
  },
  {
   "cell_type": "code",
   "execution_count": 9,
   "metadata": {
    "code_folding": [
     0
    ]
   },
   "outputs": [],
   "source": [
    "def extsn(sky, source, platescale=(0.176991*u.arcsec), qe=1.0):\n",
    "    sn = (qe*source)/np.sqrt((qe*source)+(qe*sky))\n",
    "    sn = sn*((1.0/206264.806)*(u.rad/u.arcsec))*platescale\n",
    "    return sn.decompose()"
   ]
  },
  {
   "cell_type": "code",
   "execution_count": 10,
   "metadata": {
    "code_folding": [
     0
    ]
   },
   "outputs": [],
   "source": [
    "def flatsnprober(observatory, diam, fil, fwhm, fl, tlim, siglim=5.0, qe=1.0, plot=True):\n",
    "    probes = flat(fl, fil)\n",
    "    probeb = sky(observatory, fil)/((1.0*u.arcsec)**2.0)\n",
    "    area = np.pi*((diam/2.0)**2.0)\n",
    "    probes *= area\n",
    "    probeb *= area\n",
    "    time = np.linspace(1,tlim,int(tlim))\n",
    "    sns = []\n",
    "    for t in time:\n",
    "        ts = t*u.s\n",
    "        tests = (probes*ts).decompose()\n",
    "        testb = (probeb*ts).decompose()\n",
    "        prsn = pointsn(testb, tests, fwhm, siglim, qe)\n",
    "        sns.append(prsn.value)\n",
    "    if plot:\n",
    "        plt.clf()\n",
    "        plt.plot(time, sns)\n",
    "        plt.title('Photometric SNR')\n",
    "        plt.xscale('log')\n",
    "        plt.yscale('log')\n",
    "        plt.xlabel(r'$t[s]$')\n",
    "        plt.ylabel(r'$\\frac{S}{N}\\ \\left[\\sqrt{ph}\\ \\right]$')\n",
    "        plt.show()\n",
    "    snss = []\n",
    "    if (1.0>=min(sns) and 1.0<=max(sns)):\n",
    "        tosolve = np.subtract(sns, 1.0)\n",
    "        solveinterp = interp1d(time, tosolve)\n",
    "        roots = root(solveinterp, [time[0]])\n",
    "        nr = np.rint(roots.x).astype(int)\n",
    "        sn1 = nr[0]\n",
    "        snss.append(sn1)\n",
    "    else:\n",
    "        snss.append(np.nan)\n",
    "    if (2.0>=min(sns) and 2.0<=max(sns)):\n",
    "        tosolve = np.subtract(sns, 2.0)\n",
    "        solveinterp = interp1d(time, tosolve)\n",
    "        roots = root(solveinterp, [time[0]])\n",
    "        nr = np.rint(roots.x).astype(int)\n",
    "        sn2 = nr[0]\n",
    "        snss.append(sn2)\n",
    "    else:\n",
    "        snss.append(np.nan)\n",
    "    if (3.0>=min(sns) and 3.0<=max(sns)):\n",
    "        tosolve = np.subtract(sns, 3.0)\n",
    "        solveinterp = interp1d(time, tosolve)\n",
    "        roots = root(solveinterp, [time[0]])\n",
    "        nr = np.rint(roots.x).astype(int)\n",
    "        sn3 = nr[0]\n",
    "        snss.append(sn3)\n",
    "    else:\n",
    "        snss.append(np.nan)\n",
    "    return snss"
   ]
  },
  {
   "cell_type": "code",
   "execution_count": 11,
   "metadata": {
    "code_folding": [
     0
    ]
   },
   "outputs": [],
   "source": [
    "def extsnprober(observatory, diam, fil, fl, extarea, tlim, platescale=(0.176991*u.arcsec), qe=1.0, plot=True):\n",
    "    probes = flatext(fl, fil, extarea)\n",
    "    probeb = sky(observatory, fil)/((1.0*u.arcsec)**2.0)\n",
    "    area = np.pi*((diam/2.0)**2.0)\n",
    "    probes *= area\n",
    "    probeb *= area\n",
    "    time = np.linspace(1,tlim,int(tlim))\n",
    "    sns = []\n",
    "    for t in time:\n",
    "        ts = t*u.s\n",
    "        tests = (probes*ts).decompose()\n",
    "        testb = (probeb*ts).decompose()\n",
    "        prsn = extsn(testb, tests, platescale, qe)\n",
    "        sns.append(prsn.value)\n",
    "    if plot:\n",
    "        plt.clf()\n",
    "        plt.plot(time, sns)\n",
    "        plt.title('Mean Pixel SNR')\n",
    "        plt.xscale('log')\n",
    "        plt.yscale('log')\n",
    "        plt.xlabel(r'$t[s]$')\n",
    "        plt.ylabel(r'$\\frac{S}{N}\\ \\left[\\sqrt{ph}\\ \\right]$')\n",
    "        plt.show()\n",
    "    snss = []\n",
    "    if (1.0>=min(sns) and 1.0<=max(sns)):\n",
    "        tosolve = np.subtract(sns, 1.0)\n",
    "        solveinterp = interp1d(time, tosolve)\n",
    "        roots = root(solveinterp, [time[0]])\n",
    "        nr = np.rint(roots.x).astype(int)\n",
    "        sn1 = nr[0]\n",
    "        snss.append(sn1)\n",
    "    else:\n",
    "        snss.append(np.nan)\n",
    "    if (2.0>=min(sns) and 2.0<=max(sns)):\n",
    "        tosolve = np.subtract(sns, 2.0)\n",
    "        solveinterp = interp1d(time, tosolve)\n",
    "        roots = root(solveinterp, [time[0]])\n",
    "        nr = np.rint(roots.x).astype(int)\n",
    "        sn2 = nr[0]\n",
    "        snss.append(sn2)\n",
    "    else:\n",
    "        snss.append(np.nan)\n",
    "    if (3.0>=min(sns) and 3.0<=max(sns)):\n",
    "        tosolve = np.subtract(sns, 3.0)\n",
    "        solveinterp = interp1d(time, tosolve)\n",
    "        roots = root(solveinterp, [time[0]])\n",
    "        nr = np.rint(roots.x).astype(int)\n",
    "        sn3 = nr[0]\n",
    "        snss.append(sn3)\n",
    "    else:\n",
    "        snss.append(np.nan)\n",
    "    return snss"
   ]
  },
  {
   "cell_type": "code",
   "execution_count": 12,
   "metadata": {},
   "outputs": [],
   "source": [
    "# tests = (flat(1.116172836850136e-15, 'sdss-r')*np.pi*(130.0/2.0*u.cm)*(130.0/2.0*u.cm)*(900*u.s)).decompose()\n",
    "# testb = (sky('skinakas', 'sdss-r')*(130.0/2.0*u.cm)*np.pi*(130.0/2.0*u.cm)*(900*u.s)/((1.0*u.arcsec)**2.0)).decompose()\n",
    "# snfin = pointsn(testb, tests, 1.0*u.arcsec, 15.0, 0.8)\n",
    "\n",
    "# flatpointsn = flatsnprober('skinakas', 1.3*u.m, 'sdss-r', 1.0*u.arcsec, 1.116172836850136e-15, 10000.0, 15.0, 0.8, plot=False)\n",
    "# dummy = flatsnprober('skinakas', 1.3*u.m, 'sdss-r', 1.0*u.arcsec, 1.116172836850136e-15, 100.0, 15.0, 0.8, plot=False)"
   ]
  },
  {
   "cell_type": "code",
   "execution_count": 13,
   "metadata": {},
   "outputs": [],
   "source": [
    "# etests = (flatext(2.7652312061436463e-13, 'Ha', ((7.2*u.arcmin)*(5.4*u.arcmin)))*np.pi*((130.0/2.0)*u.cm)*((130.0/2.0)*u.cm)*(900*u.s)).decompose()\n",
    "# etestb = (sky('skinakas', 'Ha')*(130.0/2.0*u.cm)*np.pi*(130.0/2.0*u.cm)*(900*u.s)/((1.0*u.arcsec)**2.0)).decompose()\n",
    "\n",
    "# flatextsn = extsnprober('skinakas', 1.3*u.m, 'Ha', 2.7652312061436463e-13, ((7.2*u.arcmin)*(5.4*u.arcmin)), 10000.0, plot=False)\n",
    "# dummy = extsnprober('skinakas', 1.3*u.m, 'Ha', 2.7652312061436463e-13, ((7.2*u.arcmin)*(5.4*u.arcmin)), 100.0, plot=False)"
   ]
  },
  {
   "cell_type": "code",
   "execution_count": null,
   "metadata": {},
   "outputs": [],
   "source": []
  }
 ],
 "metadata": {
  "kernelspec": {
   "display_name": "Python 3",
   "language": "python",
   "name": "python3"
  },
  "language_info": {
   "codemirror_mode": {
    "name": "ipython",
    "version": 3
   },
   "file_extension": ".py",
   "mimetype": "text/x-python",
   "name": "python",
   "nbconvert_exporter": "python",
   "pygments_lexer": "ipython3",
   "version": "3.7.0"
  }
 },
 "nbformat": 4,
 "nbformat_minor": 2
}
